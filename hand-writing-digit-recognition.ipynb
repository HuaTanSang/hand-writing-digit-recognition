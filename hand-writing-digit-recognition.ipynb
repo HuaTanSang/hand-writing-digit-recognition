{
 "cells": [
  {
   "cell_type": "markdown",
   "metadata": {
    "id": "Xrs2gzPus8uM"
   },
   "source": [
    "### This notebook is used for training on Google Colab."
   ]
  },
  {
   "cell_type": "code",
   "execution_count": null,
   "metadata": {
    "colab": {
     "base_uri": "https://localhost:8080/"
    },
    "executionInfo": {
     "elapsed": 8746,
     "status": "ok",
     "timestamp": 1736438097109,
     "user": {
      "displayName": "Hứa Tấn Sang",
      "userId": "16469540663514736874"
     },
     "user_tz": -420
    },
    "id": "WVSpF95MoJ0m",
    "outputId": "82af99dd-2732-489e-8d3f-bc323a55bcdd"
   },
   "outputs": [],
   "source": [
    "!pip install idx2numpy"
   ]
  },
  {
   "cell_type": "code",
   "execution_count": null,
   "metadata": {
    "colab": {
     "base_uri": "https://localhost:8080/"
    },
    "executionInfo": {
     "elapsed": 8309,
     "status": "ok",
     "timestamp": 1736438105414,
     "user": {
      "displayName": "Hứa Tấn Sang",
      "userId": "16469540663514736874"
     },
     "user_tz": -420
    },
    "id": "OlJrIbYClvFY",
    "outputId": "b2936629-4ec4-4b15-8360-b61c8dfe47b3"
   },
   "outputs": [],
   "source": [
    "!git clone https://github.com/HuaTanSang/hand-writing-digit-recognition.git"
   ]
  },
  {
   "cell_type": "code",
   "execution_count": null,
   "metadata": {
    "colab": {
     "base_uri": "https://localhost:8080/"
    },
    "executionInfo": {
     "elapsed": 1534632,
     "status": "ok",
     "timestamp": 1736439672926,
     "user": {
      "displayName": "Hứa Tấn Sang",
      "userId": "16469540663514736874"
     },
     "user_tz": -420
    },
    "id": "cRKMUnIcm7Ku",
    "outputId": "f39a1232-4437-4943-b7c4-47df66768072"
   },
   "outputs": [],
   "source": [
    "!python /content/hand-writing-digit-recognition/main.py"
   ]
  },
  {
   "cell_type": "code",
   "execution_count": null,
   "metadata": {
    "colab": {
     "base_uri": "https://localhost:8080/"
    },
    "executionInfo": {
     "elapsed": 926,
     "status": "ok",
     "timestamp": 1736440537907,
     "user": {
      "displayName": "Hứa Tấn Sang",
      "userId": "16469540663514736874"
     },
     "user_tz": -420
    },
    "id": "b0AJ-thD59Va",
    "outputId": "be74a723-55cd-4929-9a1b-d75025b2d436"
   },
   "outputs": [],
   "source": [
    "# Copy folder về drive\n",
    "source = '/content/hand-writing-digit-recognition/checkpoint'\n",
    "distination = 'path/to/destination/folder'\n",
    "from distutils.dir_util import copy_tree\n",
    "copy_tree(source, distination)"
   ]
  }
 ],
 "metadata": {
  "accelerator": "GPU",
  "colab": {
   "authorship_tag": "ABX9TyPU2Kj76rFG6mvv3KZWPbBh",
   "gpuType": "T4",
   "mount_file_id": "1xlBLiHyzoCYJzEuwPnvZawkz1JrL2H_A",
   "provenance": []
  },
  "kernelspec": {
   "display_name": "Python 3",
   "name": "python3"
  },
  "language_info": {
   "name": "python"
  }
 },
 "nbformat": 4,
 "nbformat_minor": 0
}
